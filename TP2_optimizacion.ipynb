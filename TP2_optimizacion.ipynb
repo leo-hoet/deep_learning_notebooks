{
  "nbformat": 4,
  "nbformat_minor": 0,
  "metadata": {
    "colab": {
      "name": "TP2_optimizacion.ipynb",
      "provenance": [],
      "collapsed_sections": [],
      "authorship_tag": "ABX9TyO4WEnCanBCayRpHaXw6dao",
      "include_colab_link": true
    },
    "kernelspec": {
      "name": "python3",
      "display_name": "Python 3"
    },
    "language_info": {
      "name": "python"
    }
  },
  "cells": [
    {
      "cell_type": "markdown",
      "metadata": {
        "id": "view-in-github",
        "colab_type": "text"
      },
      "source": [
        "<a href=\"https://colab.research.google.com/github/leo-hoet/deep_learning_notebooks/blob/main/TP2_optimizacion.ipynb\" target=\"_parent\"><img src=\"https://colab.research.google.com/assets/colab-badge.svg\" alt=\"Open In Colab\"/></a>"
      ]
    },
    {
      "cell_type": "code",
      "execution_count": 470,
      "metadata": {
        "id": "9endedrSGu7q"
      },
      "outputs": [],
      "source": [
        "import seaborn as sns\n",
        "import math\n",
        "import pandas as pd\n",
        "import random \n",
        "import numpy as np\n",
        "from numpy import linalg as LA"
      ]
    },
    {
      "cell_type": "code",
      "source": [
        "def f(x):\n",
        "  return -(x - 3) ** 2 + x+ 0.1 * math.sin(10 * x)\n"
      ],
      "metadata": {
        "id": "RRMGZP-0KAK4"
      },
      "execution_count": 471,
      "outputs": []
    },
    {
      "cell_type": "code",
      "source": [
        "# generate dataset\n",
        "\n",
        "points = []\n",
        "for i in range(1000):\n",
        "  x = (random.random()) * 5\n",
        "  points.append({'x': x, 'y': f(x)})\n",
        "\n",
        "df = pd.DataFrame(points)\n",
        "sns.lineplot(data=df, x='x', y='y')"
      ],
      "metadata": {
        "colab": {
          "base_uri": "https://localhost:8080/",
          "height": 296
        },
        "id": "I-vUqf-Nb-cw",
        "outputId": "aa146d6e-ad62-4d43-ef1a-5ae99f48e350"
      },
      "execution_count": 472,
      "outputs": [
        {
          "output_type": "execute_result",
          "data": {
            "text/plain": [
              "<matplotlib.axes._subplots.AxesSubplot at 0x7f58cd02ac50>"
            ]
          },
          "metadata": {},
          "execution_count": 472
        },
        {
          "output_type": "display_data",
          "data": {
            "text/plain": [
              "<Figure size 432x288 with 1 Axes>"
            ],
            "image/png": "[encoded data removed]"
          },
          "metadata": {
            "needs_background": "light"
          }
        }
      ]
    },
    {
      "cell_type": "code",
      "source": [
        "# hyper parameters\n",
        "epochs = 30\n",
        "batch_size = 20\n",
        "n_batches = 20"
      ],
      "metadata": {
        "id": "Vc1Uy_ssKdYF"
      },
      "execution_count": 473,
      "outputs": []
    },
    {
      "cell_type": "code",
      "source": [
        "# generate batches\n",
        "batches = []\n",
        "for i in range(n_batches):\n",
        "  batches.append(df.x.sample(batch_size).to_numpy())"
      ],
      "metadata": {
        "id": "A5AceQL9eSkx"
      },
      "execution_count": 474,
      "outputs": []
    },
    {
      "cell_type": "code",
      "source": [
        "def predict_func(x, W):\n",
        "  w1, w2, b = W\n",
        "  return w1 * (x ** 2) + w2 * x + b\n",
        "\n",
        "def calc_gradient(x, y, W) -> np.array:\n",
        "  w1, w2, w3 = W\n",
        "  f_partial_w1 = 2 * (y - w1 * (x ** 2) - w2 * x - w3) * (-x ** 2)\n",
        "  f_partial_w2 = 2 * (y - w1 * (x ** 2) - w2 * x - w3) * -x\n",
        "  f_partial_w3 = 2 * (y - w1 * (x ** 2) - w2 * x - w3) * (-1)\n",
        "\n",
        "  return np.array([f_partial_w1, f_partial_w2, f_partial_w3])\n",
        "\n",
        "def L_gradient(X, W):\n",
        "  w1, w2, w3 = W\n",
        "  L_partial_w1 = (1/batch_size) * (np.array([4 * (y - w1 * (x ** 2) - w2 * x - w3) * (-w1 * x) for x in X]).sum())\n",
        "  L_partial_w2 = (1/batch_size) * (np.array([4 * (y - w1 * (x ** 2) - w2 * x - w3) * -w2 for x in X]).sum())\n",
        "  L_partial_w3 = (1/batch_size) * (np.array([2 * (y - w1 * (x ** 2) - w2 * x - w3) * (-1) for x in X]).sum())\n",
        "  return np.array([L_partial_w1, L_partial_w2, L_partial_w3])\n",
        "\n",
        "def mse(X,W):\n",
        "  return np.array([(f(x) - predict_func(x, W)) ** 2 for x in X]).mean()\n",
        "\n",
        "error_result = []\n",
        "\n",
        "# Minibatch\n",
        "learning_rate = 0.0001\n",
        "W = np.random.random(3) # w1, w2, and b\n",
        "mse_minibatch = []\n",
        "for e in range(epochs):\n",
        "  for X in batches:\n",
        "    x, *_ = X\n",
        "    y_hat = predict_func(x, W)\n",
        "    y = f(x)\n",
        "    err = y - y_hat\n",
        "\n",
        "    gradient = L_gradient(X, W)\n",
        "    W = W - learning_rate * gradient\n",
        "  error_result.append({'epoch':e, 'mse': mse(X,W), 'algol':'minibatch'})\n",
        "\n"
      ],
      "metadata": {
        "id": "ke_RLcCjKf9U"
      },
      "execution_count": 475,
      "outputs": []
    },
    {
      "cell_type": "code",
      "source": [
        "# First orden momentun\n",
        "learning_rate = 0.0001\n",
        "momentum = 0.01\n",
        "W = np.random.random(3) # w1, w2, and b\n",
        "mse_momentum = []\n",
        "V = np.zeros(3)\n",
        "\n",
        "for e in range(epochs):\n",
        "  for X in batches:\n",
        "    x, *_ = X\n",
        "    y_hat = predict_func(x, W)\n",
        "    y = f(x)\n",
        "    err = y - y_hat\n",
        "\n",
        "    gradient = L_gradient(X, W)\n",
        "    V = momentum * V + learning_rate * gradient\n",
        "    W = W - V\n",
        "  mse_momentum.append(mse(X,W))\n",
        "  error_result.append({'epoch':e, 'mse': mse(X,W), 'algol':'momentum'})"
      ],
      "metadata": {
        "id": "y4HZkw48rper"
      },
      "execution_count": 476,
      "outputs": []
    },
    {
      "cell_type": "code",
      "source": [
        "df = pd.DataFrame(error_result)\n",
        "sns.lineplot(data=df, x='epoch', y='mse', hue='algol')"
      ],
      "metadata": {
        "colab": {
          "base_uri": "https://localhost:8080/",
          "height": 296
        },
        "id": "8aAvk9Gd0rIt",
        "outputId": "cfd9c8ee-eb6d-4430-8e80-14517835fab1"
      },
      "execution_count": 477,
      "outputs": [
        {
          "output_type": "execute_result",
          "data": {
            "text/plain": [
              "<matplotlib.axes._subplots.AxesSubplot at 0x7f58cd14b350>"
            ]
          },
          "metadata": {},
          "execution_count": 477
        },
        {
          "output_type": "display_data",
          "data": {
            "text/plain": [
              "<Figure size 432x288 with 1 Axes>"
            ],
            "image/png": "[encoded data removed]"
          },
          "metadata": {
            "needs_background": "light"
          }
        }
      ]
    },
    {
      "cell_type": "code",
      "source": [
        "X = np.linspace(0,5,50)\n",
        "y = np.array([predict_func(x,W) for x in X])\n",
        "datas = []\n",
        "for x in X:\n",
        "  datas.append({'x':x, 'y':f(x), 'type':'original'})\n",
        "\n",
        "for x in X:\n",
        "  datas.append({'x':x, 'y':predict_func(x,W), 'type':'predicted'})\n",
        "\n",
        "df = pd.DataFrame(datas)\n",
        "sns.lineplot(data=df, x='x', y='y', hue='type')\n",
        "\n",
        "# Creo que al usar MSE esta buscando la curva que sea el AVG de todos los puntos\n",
        "# de la funcion original. Pero no estoy seguro"
      ],
      "metadata": {
        "colab": {
          "base_uri": "https://localhost:8080/",
          "height": 296
        },
        "id": "GYuFYhRA3tnI",
        "outputId": "2cb79644-0879-4abc-a9a9-48580ece6be9"
      },
      "execution_count": 478,
      "outputs": [
        {
          "output_type": "execute_result",
          "data": {
            "text/plain": [
              "<matplotlib.axes._subplots.AxesSubplot at 0x7f58ccf08a50>"
            ]
          },
          "metadata": {},
          "execution_count": 478
        },
        {
          "output_type": "display_data",
          "data": {
            "text/plain": [
              "<Figure size 432x288 with 1 Axes>"
            ],
            "image/png": "[encoded data removed]"
          },
          "metadata": {
            "needs_background": "light"
          }
        }
      ]
    }
  ]
}