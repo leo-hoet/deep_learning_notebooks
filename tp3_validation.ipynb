{
  "nbformat": 4,
  "nbformat_minor": 0,
  "metadata": {
    "colab": {
      "name": "DL_S5_C4.ipynb",
      "provenance": [],
      "include_colab_link": true
    },
    "kernelspec": {
      "name": "python3",
      "display_name": "Python 3"
    },
    "language_info": {
      "name": "python"
    },
    "accelerator": "GPU",
    "gpuClass": "standard"
  },
  "cells": [
    {
      "cell_type": "markdown",
      "metadata": {
        "id": "view-in-github",
        "colab_type": "text"
      },
      "source": [
        "<a href=\"https://colab.research.google.com/github/leo-hoet/deep_learning_notebooks/blob/main/tp3_validation.ipynb\" target=\"_parent\"><img src=\"https://colab.research.google.com/assets/colab-badge.svg\" alt=\"Open In Colab\"/></a>"
      ]
    },
    {
      "cell_type": "code",
      "execution_count": null,
      "metadata": {
        "id": "tRGoyK_dAJAN"
      },
      "outputs": [],
      "source": [
        "import pandas as pd\n",
        "df = pd.read_csv(\"/content/dataset_wine (1).csv\")"
      ]
    },
    {
      "cell_type": "code",
      "source": [
        "len(df) # cantidad de filas"
      ],
      "metadata": {
        "colab": {
          "base_uri": "https://localhost:8080/"
        },
        "id": "KII75g_CA2FV",
        "outputId": "deea5bcc-d7cc-4c25-8e3c-2c0ae20824f6"
      },
      "execution_count": null,
      "outputs": [
        {
          "output_type": "execute_result",
          "data": {
            "text/plain": [
              "6497"
            ]
          },
          "metadata": {},
          "execution_count": 99
        }
      ]
    },
    {
      "cell_type": "code",
      "source": [
        "df.info()"
      ],
      "metadata": {
        "colab": {
          "base_uri": "https://localhost:8080/"
        },
        "id": "-DwTipsfBKiU",
        "outputId": "fc354ef4-3e05-4616-932d-fbf0ef47a4c0"
      },
      "execution_count": null,
      "outputs": [
        {
          "output_type": "stream",
          "name": "stdout",
          "text": [
            "<class 'pandas.core.frame.DataFrame'>\n",
            "RangeIndex: 6497 entries, 0 to 6496\n",
            "Data columns (total 15 columns):\n",
            " #   Column                Non-Null Count  Dtype  \n",
            "---  ------                --------------  -----  \n",
            " 0   Unnamed: 0            6497 non-null   int64  \n",
            " 1   type                  6497 non-null   object \n",
            " 2   fixed acidity         6487 non-null   float64\n",
            " 3   volatile acidity      6489 non-null   float64\n",
            " 4   citric acid           6494 non-null   float64\n",
            " 5   residual sugar        6495 non-null   float64\n",
            " 6   chlorides             6495 non-null   float64\n",
            " 7   free sulfur dioxide   6497 non-null   float64\n",
            " 8   total sulfur dioxide  6497 non-null   float64\n",
            " 9   density               6497 non-null   float64\n",
            " 10  pH                    6488 non-null   float64\n",
            " 11  sulphates             6493 non-null   float64\n",
            " 12  alcohol               6497 non-null   float64\n",
            " 13  quality               6497 non-null   int64  \n",
            " 14  vendor_id             6497 non-null   int64  \n",
            "dtypes: float64(11), int64(3), object(1)\n",
            "memory usage: 761.5+ KB\n"
          ]
        }
      ]
    },
    {
      "cell_type": "code",
      "source": [
        "print(df.head())"
      ],
      "metadata": {
        "colab": {
          "base_uri": "https://localhost:8080/"
        },
        "id": "m2DAOPQwBM3a",
        "outputId": "45149d99-a90d-4f1c-c59f-0df3ca0e6d24"
      },
      "execution_count": null,
      "outputs": [
        {
          "output_type": "stream",
          "name": "stdout",
          "text": [
            "   Unnamed: 0   type  fixed acidity  volatile acidity  citric acid  \\\n",
            "0           0  white            7.0              0.27         0.36   \n",
            "1           1  white            6.3              0.30         0.34   \n",
            "2           2  white            8.1              0.28         0.40   \n",
            "3           3  white            7.2              0.23         0.32   \n",
            "4           4  white            7.2              0.23         0.32   \n",
            "\n",
            "   residual sugar  chlorides  free sulfur dioxide  total sulfur dioxide  \\\n",
            "0            20.7      0.045                 45.0                 170.0   \n",
            "1             1.6      0.049                 14.0                 132.0   \n",
            "2             6.9      0.050                 30.0                  97.0   \n",
            "3             8.5      0.058                 47.0                 186.0   \n",
            "4             8.5      0.058                 47.0                 186.0   \n",
            "\n",
            "   density    pH  sulphates  alcohol  quality  vendor_id  \n",
            "0   1.0010  3.00       0.45      8.8        6        369  \n",
            "1   0.9940  3.30       0.49      9.5        6        361  \n",
            "2   0.9951  3.26       0.44     10.1        6        354  \n",
            "3   0.9956  3.19       0.40      9.9        6        325  \n",
            "4   0.9956  3.19       0.40      9.9        6        375  \n"
          ]
        }
      ]
    },
    {
      "cell_type": "code",
      "source": [
        "import numpy as np\n",
        "import torch\n",
        "import matplotlib.pyplot as plt\n",
        "from sklearn import preprocessing\n",
        "from scipy import stats"
      ],
      "metadata": {
        "id": "iGXt_8GFBlpm"
      },
      "execution_count": null,
      "outputs": []
    },
    {
      "cell_type": "code",
      "source": [
        "print(np.min(df.quality))\n",
        "print(np.max(df.quality))"
      ],
      "metadata": {
        "colab": {
          "base_uri": "https://localhost:8080/"
        },
        "id": "NZGRUWXzBt2v",
        "outputId": "d8746acc-960a-4e66-e17b-fdcdec674dd9"
      },
      "execution_count": null,
      "outputs": [
        {
          "output_type": "stream",
          "name": "stdout",
          "text": [
            "3\n",
            "9\n"
          ]
        }
      ]
    },
    {
      "cell_type": "code",
      "source": [
        "quality = df.quality.to_numpy()\n",
        "fix, ax1 = plt.subplots(1,1)\n",
        "ax1.hist(quality)"
      ],
      "metadata": {
        "colab": {
          "base_uri": "https://localhost:8080/",
          "height": 334
        },
        "id": "phs_G-OeCFGZ",
        "outputId": "d6be11e2-1a7d-439c-d92c-6814312c5ff0"
      },
      "execution_count": null,
      "outputs": [
        {
          "output_type": "execute_result",
          "data": {
            "text/plain": [
              "(array([  30.,  216.,    0., 2138.,    0., 2836., 1079.,    0.,  193.,\n",
              "           5.]),\n",
              " array([3. , 3.6, 4.2, 4.8, 5.4, 6. , 6.6, 7.2, 7.8, 8.4, 9. ]),\n",
              " <a list of 10 Patch objects>)"
            ]
          },
          "metadata": {},
          "execution_count": 104
        },
        {
          "output_type": "display_data",
          "data": {
            "text/plain": [
              "<Figure size 432x288 with 1 Axes>"
            ],
            "image/png": "[encoded data removed]"
          },
          "metadata": {
            "needs_background": "light"
          }
        }
      ]
    },
    {
      "cell_type": "code",
      "source": [
        "df[\"quality_label\"] = df.quality.apply(lambda label: 0 if label <= 6 else 1)\n",
        "print(len(df[df[\"quality_label\"] == 0])) # bad quality \n",
        "print(len(df[df[\"quality_label\"] == 1])) # good quality"
      ],
      "metadata": {
        "colab": {
          "base_uri": "https://localhost:8080/"
        },
        "id": "FxAaiN5qByyu",
        "outputId": "0a68437c-138c-4b6f-d0a5-583593f5da83"
      },
      "execution_count": null,
      "outputs": [
        {
          "output_type": "stream",
          "name": "stdout",
          "text": [
            "5220\n",
            "1277\n"
          ]
        }
      ]
    },
    {
      "cell_type": "code",
      "source": [
        "# clasificación binaria -> modelo tonto -> siempre devolver la clase mayoritaria\n",
        "# regresion -> modelo totno -> siempre devolver el promedio de tu salida"
      ],
      "metadata": {
        "id": "YOHKjGkECuMP"
      },
      "execution_count": null,
      "outputs": []
    },
    {
      "cell_type": "markdown",
      "source": [
        "## Ingeniería de features"
      ],
      "metadata": {
        "id": "PzoEyU2lDwje"
      }
    },
    {
      "cell_type": "code",
      "source": [
        "df.info()"
      ],
      "metadata": {
        "colab": {
          "base_uri": "https://localhost:8080/"
        },
        "id": "xb-rkWybDy4P",
        "outputId": "75115928-83a5-4636-8984-4e0ffee6dc06"
      },
      "execution_count": null,
      "outputs": [
        {
          "output_type": "stream",
          "name": "stdout",
          "text": [
            "<class 'pandas.core.frame.DataFrame'>\n",
            "RangeIndex: 6497 entries, 0 to 6496\n",
            "Data columns (total 16 columns):\n",
            " #   Column                Non-Null Count  Dtype  \n",
            "---  ------                --------------  -----  \n",
            " 0   Unnamed: 0            6497 non-null   int64  \n",
            " 1   type                  6497 non-null   object \n",
            " 2   fixed acidity         6487 non-null   float64\n",
            " 3   volatile acidity      6489 non-null   float64\n",
            " 4   citric acid           6494 non-null   float64\n",
            " 5   residual sugar        6495 non-null   float64\n",
            " 6   chlorides             6495 non-null   float64\n",
            " 7   free sulfur dioxide   6497 non-null   float64\n",
            " 8   total sulfur dioxide  6497 non-null   float64\n",
            " 9   density               6497 non-null   float64\n",
            " 10  pH                    6488 non-null   float64\n",
            " 11  sulphates             6493 non-null   float64\n",
            " 12  alcohol               6497 non-null   float64\n",
            " 13  quality               6497 non-null   int64  \n",
            " 14  vendor_id             6497 non-null   int64  \n",
            " 15  quality_label         6497 non-null   int64  \n",
            "dtypes: float64(11), int64(4), object(1)\n",
            "memory usage: 812.2+ KB\n"
          ]
        }
      ]
    },
    {
      "cell_type": "code",
      "source": [
        "# Analicemos la variable tipo\n",
        "print(df[\"type\"].unique())\n",
        "type_dummies = pd.get_dummies(df[\"type\"], prefix=\"type\") # -> one hot encoding\n",
        "type_dummies.info() \n",
        "\n",
        "# concatenar esta representación del type al dataset original\n",
        "dataset = pd.concat([df, type_dummies], axis=1)\n",
        "dataset.info()"
      ],
      "metadata": {
        "colab": {
          "base_uri": "https://localhost:8080/"
        },
        "id": "7flcpT4WEDqg",
        "outputId": "d3a15522-a4bc-4cc4-964c-edaee983d817"
      },
      "execution_count": null,
      "outputs": [
        {
          "output_type": "stream",
          "name": "stdout",
          "text": [
            "['white' 'red']\n",
            "<class 'pandas.core.frame.DataFrame'>\n",
            "RangeIndex: 6497 entries, 0 to 6496\n",
            "Data columns (total 2 columns):\n",
            " #   Column      Non-Null Count  Dtype\n",
            "---  ------      --------------  -----\n",
            " 0   type_red    6497 non-null   uint8\n",
            " 1   type_white  6497 non-null   uint8\n",
            "dtypes: uint8(2)\n",
            "memory usage: 12.8 KB\n",
            "<class 'pandas.core.frame.DataFrame'>\n",
            "RangeIndex: 6497 entries, 0 to 6496\n",
            "Data columns (total 18 columns):\n",
            " #   Column                Non-Null Count  Dtype  \n",
            "---  ------                --------------  -----  \n",
            " 0   Unnamed: 0            6497 non-null   int64  \n",
            " 1   type                  6497 non-null   object \n",
            " 2   fixed acidity         6487 non-null   float64\n",
            " 3   volatile acidity      6489 non-null   float64\n",
            " 4   citric acid           6494 non-null   float64\n",
            " 5   residual sugar        6495 non-null   float64\n",
            " 6   chlorides             6495 non-null   float64\n",
            " 7   free sulfur dioxide   6497 non-null   float64\n",
            " 8   total sulfur dioxide  6497 non-null   float64\n",
            " 9   density               6497 non-null   float64\n",
            " 10  pH                    6488 non-null   float64\n",
            " 11  sulphates             6493 non-null   float64\n",
            " 12  alcohol               6497 non-null   float64\n",
            " 13  quality               6497 non-null   int64  \n",
            " 14  vendor_id             6497 non-null   int64  \n",
            " 15  quality_label         6497 non-null   int64  \n",
            " 16  type_red              6497 non-null   uint8  \n",
            " 17  type_white            6497 non-null   uint8  \n",
            "dtypes: float64(11), int64(4), object(1), uint8(2)\n",
            "memory usage: 824.9+ KB\n"
          ]
        }
      ]
    },
    {
      "cell_type": "code",
      "source": [
        "# Analicemos la vendor_id\n",
        "print(len(dataset[\"vendor_id\"].unique())) # -> embeddings"
      ],
      "metadata": {
        "colab": {
          "base_uri": "https://localhost:8080/"
        },
        "id": "vtKdw58tEORZ",
        "outputId": "359655da-e628-4bd3-aa27-a7eb0692b665"
      },
      "execution_count": null,
      "outputs": [
        {
          "output_type": "stream",
          "name": "stdout",
          "text": [
            "500\n"
          ]
        }
      ]
    },
    {
      "cell_type": "code",
      "source": [
        ""
      ],
      "metadata": {
        "id": "dMwKiCmNFSSe"
      },
      "execution_count": null,
      "outputs": []
    },
    {
      "cell_type": "markdown",
      "source": [
        "# Limpiar el dataset removiendo nans"
      ],
      "metadata": {
        "id": "y-8seDrIGuGr"
      }
    },
    {
      "cell_type": "code",
      "source": [
        "nans = dataset[dataset.isna().sum(axis=1) >= 1]\n",
        "print(nans.shape)"
      ],
      "metadata": {
        "colab": {
          "base_uri": "https://localhost:8080/"
        },
        "id": "L15QLFCnGwEb",
        "outputId": "2c26eced-dc8b-405b-b698-548a0d8d974f"
      },
      "execution_count": null,
      "outputs": [
        {
          "output_type": "stream",
          "name": "stdout",
          "text": [
            "(34, 18)\n"
          ]
        }
      ]
    },
    {
      "cell_type": "code",
      "source": [
        "dataset = dataset[dataset.isna().sum(axis=1) == 0]\n",
        "print(dataset.shape)"
      ],
      "metadata": {
        "colab": {
          "base_uri": "https://localhost:8080/"
        },
        "id": "RT1EvF9RHFHn",
        "outputId": "42b58fc6-1209-428f-a853-cbc747e6a7cf"
      },
      "execution_count": null,
      "outputs": [
        {
          "output_type": "stream",
          "name": "stdout",
          "text": [
            "(6463, 18)\n"
          ]
        }
      ]
    },
    {
      "cell_type": "code",
      "source": [
        "y = dataset[\"quality_label\"]\n",
        "vendor_id = dataset[\"vendor_id\"]\n",
        "X = dataset.drop([\"Unnamed: 0\", \"type\", \"quality\", \"quality_label\", \"vendor_id\"], axis=1)\n"
      ],
      "metadata": {
        "id": "vVA38HoBHbqS"
      },
      "execution_count": null,
      "outputs": []
    },
    {
      "cell_type": "code",
      "source": [
        ""
      ],
      "metadata": {
        "id": "1ID6WuAmIsL-"
      },
      "execution_count": null,
      "outputs": []
    },
    {
      "cell_type": "markdown",
      "source": [
        "## Normalización"
      ],
      "metadata": {
        "id": "xuuiz94jL95V"
      }
    },
    {
      "cell_type": "code",
      "source": [
        "X_norm = (X - np.min(X, axis=0)) / (np.max(X, axis=0) - np.min(X, axis=0))"
      ],
      "metadata": {
        "id": "4ZziRQRGL_fN"
      },
      "execution_count": null,
      "outputs": []
    },
    {
      "cell_type": "code",
      "source": [
        "print(np.min(X_norm, axis=0))\n",
        "print(np.max(X_norm, axis=0))"
      ],
      "metadata": {
        "colab": {
          "base_uri": "https://localhost:8080/"
        },
        "id": "heiUcF4-OeKI",
        "outputId": "7fee229c-b980-4db3-8faf-f61d16dba520"
      },
      "execution_count": null,
      "outputs": [
        {
          "output_type": "stream",
          "name": "stdout",
          "text": [
            "fixed acidity           0.0\n",
            "volatile acidity        0.0\n",
            "citric acid             0.0\n",
            "residual sugar          0.0\n",
            "chlorides               0.0\n",
            "free sulfur dioxide     0.0\n",
            "total sulfur dioxide    0.0\n",
            "density                 0.0\n",
            "pH                      0.0\n",
            "sulphates               0.0\n",
            "alcohol                 0.0\n",
            "type_red                0.0\n",
            "type_white              0.0\n",
            "dtype: float64\n",
            "fixed acidity           1.0\n",
            "volatile acidity        1.0\n",
            "citric acid             1.0\n",
            "residual sugar          1.0\n",
            "chlorides               1.0\n",
            "free sulfur dioxide     1.0\n",
            "total sulfur dioxide    1.0\n",
            "density                 1.0\n",
            "pH                      1.0\n",
            "sulphates               1.0\n",
            "alcohol                 1.0\n",
            "type_red                1.0\n",
            "type_white              1.0\n",
            "dtype: float64\n"
          ]
        }
      ]
    },
    {
      "cell_type": "code",
      "source": [
        "X_norm.describe()"
      ],
      "metadata": {
        "colab": {
          "base_uri": "https://localhost:8080/",
          "height": 361
        },
        "id": "ik1CR2FtOqzI",
        "outputId": "15c3febf-57a4-4cb4-d5ee-0cee6d8bb6ed"
      },
      "execution_count": null,
      "outputs": [
        {
          "output_type": "execute_result",
          "data": {
            "text/plain": [
              "       fixed acidity  volatile acidity  citric acid  residual sugar  \\\n",
              "count    6463.000000       6463.000000  6463.000000     6463.000000   \n",
              "mean        0.282459          0.173059     0.192023        0.074294   \n",
              "std         0.107266          0.109759     0.087501        0.072958   \n",
              "min         0.000000          0.000000     0.000000        0.000000   \n",
              "25%         0.214876          0.100000     0.150602        0.018405   \n",
              "50%         0.264463          0.140000     0.186747        0.036810   \n",
              "75%         0.322314          0.213333     0.234940        0.115031   \n",
              "max         1.000000          1.000000     1.000000        1.000000   \n",
              "\n",
              "         chlorides  free sulfur dioxide  total sulfur dioxide      density  \\\n",
              "count  6463.000000          6463.000000           6463.000000  6463.000000   \n",
              "mean      0.078166             0.102489              0.252752     0.146283   \n",
              "std       0.058265             0.061663              0.130246     0.057865   \n",
              "min       0.000000             0.000000              0.000000     0.000000   \n",
              "25%       0.048173             0.055556              0.163594     0.100636   \n",
              "50%       0.063123             0.097222              0.258065     0.149990   \n",
              "75%       0.093023             0.138889              0.345622     0.190669   \n",
              "max       1.000000             1.000000              1.000000     1.000000   \n",
              "\n",
              "                pH    sulphates      alcohol     type_red   type_white  \n",
              "count  6463.000000  6463.000000  6463.000000  6463.000000  6463.000000  \n",
              "mean      0.386304     0.174803     0.361279     0.246480     0.753520  \n",
              "std       0.124535     0.083659     0.172917     0.430995     0.430995  \n",
              "min       0.000000     0.000000     0.000000     0.000000     0.000000  \n",
              "25%       0.302326     0.117978     0.217391     0.000000     1.000000  \n",
              "50%       0.379845     0.162921     0.333333     0.000000     1.000000  \n",
              "75%       0.465116     0.213483     0.478261     0.000000     1.000000  \n",
              "max       1.000000     1.000000     1.000000     1.000000     1.000000  "
            ],
            "text/html": [
              "\n",
              "  <div id=\"df-51499448-e7b3-4942-bc0c-022d6450ad49\">\n",
              "    <div class=\"colab-df-container\">\n",
              "      <div>\n",
              "<style scoped>\n",
              "    .dataframe tbody tr th:only-of-type {\n",
              "        vertical-align: middle;\n",
              "    }\n",
              "\n",
              "    .dataframe tbody tr th {\n",
              "        vertical-align: top;\n",
              "    }\n",
              "\n",
              "    .dataframe thead th {\n",
              "        text-align: right;\n",
              "    }\n",
              "</style>\n",
              "<table border=\"1\" class=\"dataframe\">\n",
              "  <thead>\n",
              "    <tr style=\"text-align: right;\">\n",
              "      <th></th>\n",
              "      <th>fixed acidity</th>\n",
              "      <th>volatile acidity</th>\n",
              "      <th>citric acid</th>\n",
              "      <th>residual sugar</th>\n",
              "      <th>chlorides</th>\n",
              "      <th>free sulfur dioxide</th>\n",
              "      <th>total sulfur dioxide</th>\n",
              "      <th>density</th>\n",
              "      <th>pH</th>\n",
              "      <th>sulphates</th>\n",
              "      <th>alcohol</th>\n",
              "      <th>type_red</th>\n",
              "      <th>type_white</th>\n",
              "    </tr>\n",
              "  </thead>\n",
              "  <tbody>\n",
              "    <tr>\n",
              "      <th>count</th>\n",
              "      <td>6463.000000</td>\n",
              "      <td>6463.000000</td>\n",
              "      <td>6463.000000</td>\n",
              "      <td>6463.000000</td>\n",
              "      <td>6463.000000</td>\n",
              "      <td>6463.000000</td>\n",
              "      <td>6463.000000</td>\n",
              "      <td>6463.000000</td>\n",
              "      <td>6463.000000</td>\n",
              "      <td>6463.000000</td>\n",
              "      <td>6463.000000</td>\n",
              "      <td>6463.000000</td>\n",
              "      <td>6463.000000</td>\n",
              "    </tr>\n",
              "    <tr>\n",
              "      <th>mean</th>\n",
              "      <td>0.282459</td>\n",
              "      <td>0.173059</td>\n",
              "      <td>0.192023</td>\n",
              "      <td>0.074294</td>\n",
              "      <td>0.078166</td>\n",
              "      <td>0.102489</td>\n",
              "      <td>0.252752</td>\n",
              "      <td>0.146283</td>\n",
              "      <td>0.386304</td>\n",
              "      <td>0.174803</td>\n",
              "      <td>0.361279</td>\n",
              "      <td>0.246480</td>\n",
              "      <td>0.753520</td>\n",
              "    </tr>\n",
              "    <tr>\n",
              "      <th>std</th>\n",
              "      <td>0.107266</td>\n",
              "      <td>0.109759</td>\n",
              "      <td>0.087501</td>\n",
              "      <td>0.072958</td>\n",
              "      <td>0.058265</td>\n",
              "      <td>0.061663</td>\n",
              "      <td>0.130246</td>\n",
              "      <td>0.057865</td>\n",
              "      <td>0.124535</td>\n",
              "      <td>0.083659</td>\n",
              "      <td>0.172917</td>\n",
              "      <td>0.430995</td>\n",
              "      <td>0.430995</td>\n",
              "    </tr>\n",
              "    <tr>\n",
              "      <th>min</th>\n",
              "      <td>0.000000</td>\n",
              "      <td>0.000000</td>\n",
              "      <td>0.000000</td>\n",
              "      <td>0.000000</td>\n",
              "      <td>0.000000</td>\n",
              "      <td>0.000000</td>\n",
              "      <td>0.000000</td>\n",
              "      <td>0.000000</td>\n",
              "      <td>0.000000</td>\n",
              "      <td>0.000000</td>\n",
              "      <td>0.000000</td>\n",
              "      <td>0.000000</td>\n",
              "      <td>0.000000</td>\n",
              "    </tr>\n",
              "    <tr>\n",
              "      <th>25%</th>\n",
              "      <td>0.214876</td>\n",
              "      <td>0.100000</td>\n",
              "      <td>0.150602</td>\n",
              "      <td>0.018405</td>\n",
              "      <td>0.048173</td>\n",
              "      <td>0.055556</td>\n",
              "      <td>0.163594</td>\n",
              "      <td>0.100636</td>\n",
              "      <td>0.302326</td>\n",
              "      <td>0.117978</td>\n",
              "      <td>0.217391</td>\n",
              "      <td>0.000000</td>\n",
              "      <td>1.000000</td>\n",
              "    </tr>\n",
              "    <tr>\n",
              "      <th>50%</th>\n",
              "      <td>0.264463</td>\n",
              "      <td>0.140000</td>\n",
              "      <td>0.186747</td>\n",
              "      <td>0.036810</td>\n",
              "      <td>0.063123</td>\n",
              "      <td>0.097222</td>\n",
              "      <td>0.258065</td>\n",
              "      <td>0.149990</td>\n",
              "      <td>0.379845</td>\n",
              "      <td>0.162921</td>\n",
              "      <td>0.333333</td>\n",
              "      <td>0.000000</td>\n",
              "      <td>1.000000</td>\n",
              "    </tr>\n",
              "    <tr>\n",
              "      <th>75%</th>\n",
              "      <td>0.322314</td>\n",
              "      <td>0.213333</td>\n",
              "      <td>0.234940</td>\n",
              "      <td>0.115031</td>\n",
              "      <td>0.093023</td>\n",
              "      <td>0.138889</td>\n",
              "      <td>0.345622</td>\n",
              "      <td>0.190669</td>\n",
              "      <td>0.465116</td>\n",
              "      <td>0.213483</td>\n",
              "      <td>0.478261</td>\n",
              "      <td>0.000000</td>\n",
              "      <td>1.000000</td>\n",
              "    </tr>\n",
              "    <tr>\n",
              "      <th>max</th>\n",
              "      <td>1.000000</td>\n",
              "      <td>1.000000</td>\n",
              "      <td>1.000000</td>\n",
              "      <td>1.000000</td>\n",
              "      <td>1.000000</td>\n",
              "      <td>1.000000</td>\n",
              "      <td>1.000000</td>\n",
              "      <td>1.000000</td>\n",
              "      <td>1.000000</td>\n",
              "      <td>1.000000</td>\n",
              "      <td>1.000000</td>\n",
              "      <td>1.000000</td>\n",
              "      <td>1.000000</td>\n",
              "    </tr>\n",
              "  </tbody>\n",
              "</table>\n",
              "</div>\n",
              "      <button class=\"colab-df-convert\" onclick=\"convertToInteractive('df-51499448-e7b3-4942-bc0c-022d6450ad49')\"\n",
              "              title=\"Convert this dataframe to an interactive table.\"\n",
              "              style=\"display:none;\">\n",
              "        \n",
              "  <svg xmlns=\"http://www.w3.org/2000/svg\" height=\"24px\"viewBox=\"0 0 24 24\"\n",
              "       width=\"24px\">\n",
              "    <path d=\"M0 0h24v24H0V0z\" fill=\"none\"/>\n",
              "    <path d=\"M18.56 5.44l.94 2.06.94-2.06 2.06-.94-2.06-.94-.94-2.06-.94 2.06-2.06.94zm-11 1L8.5 8.5l.94-2.06 2.06-.94-2.06-.94L8.5 2.5l-.94 2.06-2.06.94zm10 10l.94 2.06.94-2.06 2.06-.94-2.06-.94-.94-2.06-.94 2.06-2.06.94z\"/><path d=\"M17.41 7.96l-1.37-1.37c-.4-.4-.92-.59-1.43-.59-.52 0-1.04.2-1.43.59L10.3 9.45l-7.72 7.72c-.78.78-.78 2.05 0 2.83L4 21.41c.39.39.9.59 1.41.59.51 0 1.02-.2 1.41-.59l7.78-7.78 2.81-2.81c.8-.78.8-2.07 0-2.86zM5.41 20L4 18.59l7.72-7.72 1.47 1.35L5.41 20z\"/>\n",
              "  </svg>\n",
              "      </button>\n",
              "      \n",
              "  <style>\n",
              "    .colab-df-container {\n",
              "      display:flex;\n",
              "      flex-wrap:wrap;\n",
              "      gap: 12px;\n",
              "    }\n",
              "\n",
              "    .colab-df-convert {\n",
              "      background-color: #E8F0FE;\n",
              "      border: none;\n",
              "      border-radius: 50%;\n",
              "      cursor: pointer;\n",
              "      display: none;\n",
              "      fill: #1967D2;\n",
              "      height: 32px;\n",
              "      padding: 0 0 0 0;\n",
              "      width: 32px;\n",
              "    }\n",
              "\n",
              "    .colab-df-convert:hover {\n",
              "      background-color: #E2EBFA;\n",
              "      box-shadow: 0px 1px 2px rgba(60, 64, 67, 0.3), 0px 1px 3px 1px rgba(60, 64, 67, 0.15);\n",
              "      fill: #174EA6;\n",
              "    }\n",
              "\n",
              "    [theme=dark] .colab-df-convert {\n",
              "      background-color: #3B4455;\n",
              "      fill: #D2E3FC;\n",
              "    }\n",
              "\n",
              "    [theme=dark] .colab-df-convert:hover {\n",
              "      background-color: #434B5C;\n",
              "      box-shadow: 0px 1px 3px 1px rgba(0, 0, 0, 0.15);\n",
              "      filter: drop-shadow(0px 1px 2px rgba(0, 0, 0, 0.3));\n",
              "      fill: #FFFFFF;\n",
              "    }\n",
              "  </style>\n",
              "\n",
              "      <script>\n",
              "        const buttonEl =\n",
              "          document.querySelector('#df-51499448-e7b3-4942-bc0c-022d6450ad49 button.colab-df-convert');\n",
              "        buttonEl.style.display =\n",
              "          google.colab.kernel.accessAllowed ? 'block' : 'none';\n",
              "\n",
              "        async function convertToInteractive(key) {\n",
              "          const element = document.querySelector('#df-51499448-e7b3-4942-bc0c-022d6450ad49');\n",
              "          const dataTable =\n",
              "            await google.colab.kernel.invokeFunction('convertToInteractive',\n",
              "                                                     [key], {});\n",
              "          if (!dataTable) return;\n",
              "\n",
              "          const docLinkHtml = 'Like what you see? Visit the ' +\n",
              "            '<a target=\"_blank\" href=https://colab.research.google.com/notebooks/data_table.ipynb>data table notebook</a>'\n",
              "            + ' to learn more about interactive tables.';\n",
              "          element.innerHTML = '';\n",
              "          dataTable['output_type'] = 'display_data';\n",
              "          await google.colab.output.renderOutput(dataTable, element);\n",
              "          const docLink = document.createElement('div');\n",
              "          docLink.innerHTML = docLinkHtml;\n",
              "          element.appendChild(docLink);\n",
              "        }\n",
              "      </script>\n",
              "    </div>\n",
              "  </div>\n",
              "  "
            ]
          },
          "metadata": {},
          "execution_count": 115
        }
      ]
    },
    {
      "cell_type": "code",
      "source": [
        ""
      ],
      "metadata": {
        "id": "F2zR1-ZoOx-L"
      },
      "execution_count": null,
      "outputs": []
    },
    {
      "cell_type": "markdown",
      "source": [
        "# Split"
      ],
      "metadata": {
        "id": "9OVB0QPQPGUK"
      }
    },
    {
      "cell_type": "code",
      "source": [
        "X_norm = X_norm.to_numpy()\n",
        "y = y.to_numpy()\n",
        "n = X_norm.shape[0]\n",
        "print(n)\n",
        "idx = np.random.permutation(np.arange(0, n))\n",
        "train_idx = idx[0:int(0.85 * n)]\n",
        "valid_idx = idx[int(0.85 * n):]\n",
        "print(len(train_idx))\n",
        "print(len(valid_idx))\n",
        "\n",
        "# train -> entrenar tu modelo (80%)\n",
        "# valid -> encontrar los HPs (10%)\n",
        "# test -> calcular las metricas finales (10%)"
      ],
      "metadata": {
        "colab": {
          "base_uri": "https://localhost:8080/"
        },
        "id": "hHP6Qt2IPHiy",
        "outputId": "09fef681-8ea4-4455-c7fb-c935fa9f7ed5"
      },
      "execution_count": null,
      "outputs": [
        {
          "output_type": "stream",
          "name": "stdout",
          "text": [
            "6463\n",
            "5493\n",
            "970\n"
          ]
        }
      ]
    },
    {
      "cell_type": "code",
      "source": [
        "X_train = X_norm[train_idx,:]\n",
        "y_train = y[train_idx]\n",
        "X_valid = X_norm[valid_idx,:]\n",
        "y_valid = y[valid_idx]\n",
        "\n",
        "print(X_train.shape)\n",
        "print(y_train.shape)\n",
        "print(X_valid.shape)\n",
        "print(y_valid.shape)"
      ],
      "metadata": {
        "colab": {
          "base_uri": "https://localhost:8080/"
        },
        "id": "AfhwVo_XPLuz",
        "outputId": "c49aaaa6-72a8-4cf7-acf8-0df0ab69426f"
      },
      "execution_count": null,
      "outputs": [
        {
          "output_type": "stream",
          "name": "stdout",
          "text": [
            "(5493, 13)\n",
            "(5493,)\n",
            "(970, 13)\n",
            "(970,)\n"
          ]
        }
      ]
    },
    {
      "cell_type": "code",
      "source": [
        ""
      ],
      "metadata": {
        "id": "ai4u0en5PVE7"
      },
      "execution_count": null,
      "outputs": []
    },
    {
      "cell_type": "markdown",
      "source": [
        "# NNet sin embeddings"
      ],
      "metadata": {
        "id": "29g8DEnCRC8o"
      }
    },
    {
      "cell_type": "code",
      "source": [
        "import torch\n",
        "from torch.utils.data import Dataset, DataLoader\n",
        "from sklearn import metrics"
      ],
      "metadata": {
        "id": "ew8ngMTnREbx"
      },
      "execution_count": null,
      "outputs": []
    },
    {
      "cell_type": "code",
      "source": [
        "class MyDataset(Dataset):\n",
        "\n",
        "    def __init__(self, X, y):\n",
        "        super().__init__()\n",
        "        self.X = X\n",
        "        self.y = y\n",
        "\n",
        "    def __len__(self):\n",
        "        return self.X.shape[0]\n",
        "\n",
        "    def __getitem__(self, idx):\n",
        "        return self.X[idx], self.y[idx]"
      ],
      "metadata": {
        "id": "QOKrevWwRMui"
      },
      "execution_count": null,
      "outputs": []
    },
    {
      "cell_type": "code",
      "source": [
        "train = MyDataset(X_train, y_train)"
      ],
      "metadata": {
        "id": "IfylgH5FRtBF"
      },
      "execution_count": null,
      "outputs": []
    },
    {
      "cell_type": "code",
      "source": [
        "len(train)"
      ],
      "metadata": {
        "colab": {
          "base_uri": "https://localhost:8080/"
        },
        "id": "xwotH3TkSOfv",
        "outputId": "28777d46-6588-47fc-89fe-6d06d89da381"
      },
      "execution_count": null,
      "outputs": [
        {
          "output_type": "execute_result",
          "data": {
            "text/plain": [
              "5493"
            ]
          },
          "metadata": {},
          "execution_count": 121
        }
      ]
    },
    {
      "cell_type": "code",
      "source": [
        "X0, y0 = train[0]"
      ],
      "metadata": {
        "id": "Ch3k54ntSROu"
      },
      "execution_count": null,
      "outputs": []
    },
    {
      "cell_type": "code",
      "source": [
        "X0.shape"
      ],
      "metadata": {
        "colab": {
          "base_uri": "https://localhost:8080/"
        },
        "id": "XkxbziOhScFv",
        "outputId": "2c25fffe-0d62-497c-8a08-386d89cabde5"
      },
      "execution_count": null,
      "outputs": [
        {
          "output_type": "execute_result",
          "data": {
            "text/plain": [
              "(13,)"
            ]
          },
          "metadata": {},
          "execution_count": 123
        }
      ]
    },
    {
      "cell_type": "code",
      "source": [
        "X_train.shape"
      ],
      "metadata": {
        "colab": {
          "base_uri": "https://localhost:8080/"
        },
        "id": "1V-3f7QKSgag",
        "outputId": "8f01e7de-acb3-48ea-acdb-d1632939c482"
      },
      "execution_count": null,
      "outputs": [
        {
          "output_type": "execute_result",
          "data": {
            "text/plain": [
              "(5493, 13)"
            ]
          },
          "metadata": {},
          "execution_count": 124
        }
      ]
    },
    {
      "cell_type": "code",
      "source": [
        "y0"
      ],
      "metadata": {
        "colab": {
          "base_uri": "https://localhost:8080/"
        },
        "id": "iB5NNBRRSi5g",
        "outputId": "0c65211d-9105-4640-ae41-87f4d0e45e11"
      },
      "execution_count": null,
      "outputs": [
        {
          "output_type": "execute_result",
          "data": {
            "text/plain": [
              "0"
            ]
          },
          "metadata": {},
          "execution_count": 125
        }
      ]
    },
    {
      "cell_type": "code",
      "source": [
        "valid = MyDataset(X_valid, y_valid)"
      ],
      "metadata": {
        "id": "ssMZMDJRSn0h"
      },
      "execution_count": null,
      "outputs": []
    },
    {
      "cell_type": "code",
      "source": [
        "len(valid)"
      ],
      "metadata": {
        "colab": {
          "base_uri": "https://localhost:8080/"
        },
        "id": "9XxU-vPzSs3R",
        "outputId": "310e51bf-4c0f-4d4d-8d1c-91b4a94a8877"
      },
      "execution_count": null,
      "outputs": [
        {
          "output_type": "execute_result",
          "data": {
            "text/plain": [
              "970"
            ]
          },
          "metadata": {},
          "execution_count": 127
        }
      ]
    },
    {
      "cell_type": "code",
      "source": [
        "print(X0)"
      ],
      "metadata": {
        "colab": {
          "base_uri": "https://localhost:8080/"
        },
        "id": "KlCqxEeFSt8S",
        "outputId": "bed819a9-c84c-4f77-bcf1-c9de2cd11542"
      },
      "execution_count": null,
      "outputs": [
        {
          "output_type": "stream",
          "name": "stdout",
          "text": [
            "[0.24793388 0.49       0.         0.00920245 0.42857143 0.05208333\n",
            " 0.05299539 0.14652015 0.46511628 0.16292135 0.26086957 1.\n",
            " 0.        ]\n"
          ]
        }
      ]
    },
    {
      "cell_type": "code",
      "source": [
        "train_dataloader = DataLoader(train, batch_size=64, shuffle=True)\n",
        "valid_dataloader = DataLoader(valid, batch_size=64, shuffle=True)"
      ],
      "metadata": {
        "id": "K4ByVtwgSxEa"
      },
      "execution_count": null,
      "outputs": []
    },
    {
      "cell_type": "code",
      "source": [
        "batch_1 = next(iter(train_dataloader))"
      ],
      "metadata": {
        "id": "321dr8dCT4wz"
      },
      "execution_count": null,
      "outputs": []
    },
    {
      "cell_type": "code",
      "source": [
        "type(batch_1)"
      ],
      "metadata": {
        "colab": {
          "base_uri": "https://localhost:8080/"
        },
        "id": "bOU8Nm17UNhN",
        "outputId": "f1a6ee39-14f0-4827-cf3f-6f33113395d2"
      },
      "execution_count": null,
      "outputs": [
        {
          "output_type": "execute_result",
          "data": {
            "text/plain": [
              "list"
            ]
          },
          "metadata": {},
          "execution_count": 131
        }
      ]
    },
    {
      "cell_type": "code",
      "source": [
        "len(batch_1)"
      ],
      "metadata": {
        "colab": {
          "base_uri": "https://localhost:8080/"
        },
        "id": "z-YMYZirUTwO",
        "outputId": "0f2be244-0747-4439-f27c-69c7be1ce2b9"
      },
      "execution_count": null,
      "outputs": [
        {
          "output_type": "execute_result",
          "data": {
            "text/plain": [
              "2"
            ]
          },
          "metadata": {},
          "execution_count": 132
        }
      ]
    },
    {
      "cell_type": "code",
      "source": [
        "type(batch_1[0])"
      ],
      "metadata": {
        "colab": {
          "base_uri": "https://localhost:8080/"
        },
        "id": "6jrte7jCUV6O",
        "outputId": "05ca12ef-9390-4c0d-e581-26a9feb0b2b5"
      },
      "execution_count": null,
      "outputs": [
        {
          "output_type": "execute_result",
          "data": {
            "text/plain": [
              "torch.Tensor"
            ]
          },
          "metadata": {},
          "execution_count": 133
        }
      ]
    },
    {
      "cell_type": "code",
      "source": [
        "print(batch_1[0].shape) # -> 64 filas de X_train (dataset de entrenamiento)"
      ],
      "metadata": {
        "colab": {
          "base_uri": "https://localhost:8080/"
        },
        "id": "w5rWRYS0UbJJ",
        "outputId": "0354f5ad-344a-494a-cb5b-96d2677f5041"
      },
      "execution_count": null,
      "outputs": [
        {
          "output_type": "stream",
          "name": "stdout",
          "text": [
            "torch.Size([64, 13])\n"
          ]
        }
      ]
    },
    {
      "cell_type": "code",
      "source": [
        "print(batch_1[1].shape) # -> 64 filas de y_train (label)"
      ],
      "metadata": {
        "colab": {
          "base_uri": "https://localhost:8080/"
        },
        "id": "ptE4qNlTUmA4",
        "outputId": "604424d9-a62f-41bd-9890-6323f86860d2"
      },
      "execution_count": null,
      "outputs": [
        {
          "output_type": "stream",
          "name": "stdout",
          "text": [
            "torch.Size([64])\n"
          ]
        }
      ]
    },
    {
      "cell_type": "code",
      "source": [
        "class NNet(torch.nn.Module):\n",
        "\n",
        "    def __init__(self):\n",
        "        super().__init__()\n",
        "        self.linear_1 = torch.nn.Linear(in_features=13, out_features=100, bias=True)\n",
        "        self.relu_1 = torch.nn.ReLU()\n",
        "        self.linear_2 = torch.nn.Linear(in_features=100, out_features=50, bias=True)\n",
        "        self.relu_2 = torch.nn.ReLU()\n",
        "        self.output = torch.nn.Linear(in_features=50, out_features=1, bias=True)\n",
        "\n",
        "    def forward(self, x): # x.shape -> 64 x 13\n",
        "        x = self.linear_1(x) # x.shape -> 64 x 100 \n",
        "        #print(x.shape)\n",
        "        x = self.relu_1(x) # x.shape -> 64 x 100\n",
        "        #print(x.shape)\n",
        "        x = self.linear_2(x) # x.shape -> 64 x 50\n",
        "        #print(x.shape)\n",
        "        x = self.relu_2(x) # x.shape -> 64 x 50\n",
        "        #print(x.shape)\n",
        "        x = self.output(x) # x.shape -> 64 x 1\n",
        "        return x"
      ],
      "metadata": {
        "id": "JsX0C6U8UrXE"
      },
      "execution_count": null,
      "outputs": []
    },
    {
      "cell_type": "code",
      "source": [
        "nnet = NNet()"
      ],
      "metadata": {
        "id": "kYb1Xz-dWGuF"
      },
      "execution_count": null,
      "outputs": []
    },
    {
      "cell_type": "code",
      "source": [
        "x_batch = next(iter(train_dataloader))[0]\n",
        "print(type(x_batch))\n",
        "x_batch = x_batch.float()\n",
        "y_batch = nnet(x_batch)\n",
        "print(x_batch.shape)\n",
        "print(y_batch.shape)"
      ],
      "metadata": {
        "colab": {
          "base_uri": "https://localhost:8080/"
        },
        "id": "-wHF-eCeaAvC",
        "outputId": "85c133ad-59b9-4ccc-cba1-bdb819823d06"
      },
      "execution_count": null,
      "outputs": [
        {
          "output_type": "stream",
          "name": "stdout",
          "text": [
            "<class 'torch.Tensor'>\n",
            "torch.Size([64, 13])\n",
            "torch.Size([64, 1])\n"
          ]
        }
      ]
    },
    {
      "cell_type": "code",
      "source": [
        "optimizer = torch.optim.Adam(nnet.parameters(), lr=0.001)\n",
        "loss_function = torch.nn.BCEWithLogitsLoss(reduction=\"sum\")"
      ],
      "metadata": {
        "id": "ti73yFR5ajxN"
      },
      "execution_count": null,
      "outputs": []
    },
    {
      "cell_type": "code",
      "source": [
        "device = \"\"\n",
        "if torch.cuda.is_available():\n",
        "    device = \"cuda:0\"\n",
        "else:\n",
        "    device = \"cpu\"\n",
        "\n",
        "print(device)"
      ],
      "metadata": {
        "colab": {
          "base_uri": "https://localhost:8080/"
        },
        "id": "VpqrLBLYb1Bo",
        "outputId": "7d0b329c-173a-46eb-845c-773eee087c0d"
      },
      "execution_count": null,
      "outputs": [
        {
          "output_type": "stream",
          "name": "stdout",
          "text": [
            "cuda:0\n"
          ]
        }
      ]
    },
    {
      "cell_type": "code",
      "source": [
        "nnet.to(device)\n",
        "\n",
        "loss_list = []\n",
        "train_auc = []\n",
        "for epoch in range(100):\n",
        "\n",
        "    running_loss = 0\n",
        "    running_y_score = []\n",
        "    running_y_label = []\n",
        "    for i, data in enumerate(train_dataloader):\n",
        "\n",
        "        # datos del batch\n",
        "        X_batch, y_batch = data \n",
        "        X_batch = X_batch.to(device).float()\n",
        "        Y_batch = y_batch.to(device).float()\n",
        "\n",
        "        # forward\n",
        "        optimizer.zero_grad()\n",
        "        y_batch_score = nnet(X_batch).reshape(-1)\n",
        "        y_batch_hat = torch.sigmoid(y_batch_score).reshape(-1)\n",
        "\n",
        "        # backpropagation\n",
        "        loss = loss_function(y_batch_score, Y_batch) # calcula el loss\n",
        "        loss.backward() # hacer los gradientes del loss\n",
        "\n",
        "        # actualización de parametros\n",
        "        optimizer.step() \n",
        "\n",
        "        running_loss += loss.item()\n",
        "        running_y_score += list(y_batch_score.detach().cpu().numpy())  \n",
        "        running_y_label += list(Y_batch.detach().cpu().numpy()) \n",
        "\n",
        "    # metrics\n",
        "    loss_list.append(running_loss)\n",
        "    fpt, tpr, _ = metrics.roc_curve(running_y_label, running_y_score)\n",
        "    auc = metrics.auc(fpt, tpr)\n",
        "    train_auc.append(auc)\n",
        "    print(f\"Epoch {epoch} | Training loss: {running_loss} | AUC: {auc}\")\n"
      ],
      "metadata": {
        "colab": {
          "base_uri": "https://localhost:8080/"
        },
        "id": "u0RP_kJ_cCMv",
        "outputId": "92421c45-3905-4c14-965a-e2ccc4831cf8"
      },
      "execution_count": null,
      "outputs": [
        {
          "output_type": "stream",
          "name": "stdout",
          "text": [
            "Epoch 0 | Training loss: 2959.4774017333984 | AUC: 0.532413840408762\n",
            "Epoch 1 | Training loss: 2545.5139331817627 | AUC: 0.7116868713562755\n",
            "Epoch 2 | Training loss: 2377.413772583008 | AUC: 0.7628004297354005\n",
            "Epoch 3 | Training loss: 2265.050977706909 | AUC: 0.7841440177482571\n",
            "Epoch 4 | Training loss: 2220.4367294311523 | AUC: 0.7947095035823909\n",
            "Epoch 5 | Training loss: 2204.1662034988403 | AUC: 0.7985313376082438\n",
            "Epoch 6 | Training loss: 2182.176317214966 | AUC: 0.804071145363512\n",
            "Epoch 7 | Training loss: 2174.9067611694336 | AUC: 0.8060194096314257\n",
            "Epoch 8 | Training loss: 2173.227596282959 | AUC: 0.8056672933991935\n",
            "Epoch 9 | Training loss: 2179.609477996826 | AUC: 0.8040821917347053\n",
            "Epoch 10 | Training loss: 2153.4044551849365 | AUC: 0.8112370841619865\n",
            "Epoch 11 | Training loss: 2152.3630867004395 | AUC: 0.8109339927771461\n",
            "Epoch 12 | Training loss: 2154.302993774414 | AUC: 0.8102827828944101\n",
            "Epoch 13 | Training loss: 2146.0892333984375 | AUC: 0.8121319454321887\n",
            "Epoch 14 | Training loss: 2131.7932319641113 | AUC: 0.8150601806302618\n",
            "Epoch 15 | Training loss: 2135.6518516540527 | AUC: 0.8144209639505358\n",
            "Epoch 16 | Training loss: 2128.9847259521484 | AUC: 0.8158889740803738\n",
            "Epoch 17 | Training loss: 2120.7612113952637 | AUC: 0.8174622929489224\n",
            "Epoch 18 | Training loss: 2113.8560152053833 | AUC: 0.8188466662682959\n",
            "Epoch 19 | Training loss: 2106.7182960510254 | AUC: 0.820579158085565\n",
            "Epoch 20 | Training loss: 2099.0802841186523 | AUC: 0.8221508989010861\n",
            "Epoch 21 | Training loss: 2110.508708000183 | AUC: 0.8189838516781647\n",
            "Epoch 22 | Training loss: 2094.715738296509 | AUC: 0.8225243714509587\n",
            "Epoch 23 | Training loss: 2090.175658226013 | AUC: 0.8236147008895169\n",
            "Epoch 24 | Training loss: 2080.625789642334 | AUC: 0.8258135599782187\n",
            "Epoch 25 | Training loss: 2072.3020191192627 | AUC: 0.8272993495055013\n",
            "Epoch 26 | Training loss: 2077.2457599639893 | AUC: 0.8261795630770941\n",
            "Epoch 27 | Training loss: 2061.9169569015503 | AUC: 0.829502311532075\n",
            "Epoch 28 | Training loss: 2048.916006088257 | AUC: 0.8326895578337498\n",
            "Epoch 29 | Training loss: 2049.7075204849243 | AUC: 0.8317496694504924\n",
            "Epoch 30 | Training loss: 2041.4106349945068 | AUC: 0.834461185366104\n",
            "Epoch 31 | Training loss: 2038.0981845855713 | AUC: 0.8347635403261983\n",
            "Epoch 32 | Training loss: 2025.6540250778198 | AUC: 0.83754701545987\n",
            "Epoch 33 | Training loss: 2032.886968612671 | AUC: 0.8363767313345785\n",
            "Epoch 34 | Training loss: 2015.7795448303223 | AUC: 0.8397407195753481\n",
            "Epoch 35 | Training loss: 2001.676022529602 | AUC: 0.8425902625291097\n",
            "Epoch 36 | Training loss: 1998.5970439910889 | AUC: 0.8433860220691768\n",
            "Epoch 37 | Training loss: 1995.1827983856201 | AUC: 0.8438830035693456\n",
            "Epoch 38 | Training loss: 1992.583062171936 | AUC: 0.8444180687492477\n",
            "Epoch 39 | Training loss: 1975.5219459533691 | AUC: 0.8479373374079364\n",
            "Epoch 40 | Training loss: 1976.5263586044312 | AUC: 0.8479762627159514\n",
            "Epoch 41 | Training loss: 1974.468765258789 | AUC: 0.8483882397596982\n",
            "Epoch 42 | Training loss: 1963.7760009765625 | AUC: 0.8498394173239082\n",
            "Epoch 43 | Training loss: 1956.8554830551147 | AUC: 0.8515466602927351\n",
            "Epoch 44 | Training loss: 1960.8023805618286 | AUC: 0.8504899959854331\n",
            "Epoch 45 | Training loss: 1950.9252490997314 | AUC: 0.8527230462230668\n",
            "Epoch 46 | Training loss: 1952.5902423858643 | AUC: 0.8523159085419377\n",
            "Epoch 47 | Training loss: 1956.524024963379 | AUC: 0.8510789253753452\n",
            "Epoch 48 | Training loss: 1937.0001401901245 | AUC: 0.8552712862520863\n",
            "Epoch 49 | Training loss: 1934.5217218399048 | AUC: 0.855505048507246\n",
            "Epoch 50 | Training loss: 1932.3842153549194 | AUC: 0.8558103491663251\n",
            "Epoch 51 | Training loss: 1925.3927059173584 | AUC: 0.8572863547648364\n",
            "Epoch 52 | Training loss: 1928.4592552185059 | AUC: 0.8568668030665569\n",
            "Epoch 53 | Training loss: 1924.6830415725708 | AUC: 0.8574178591838058\n",
            "Epoch 54 | Training loss: 1921.7150688171387 | AUC: 0.8575819766986795\n",
            "Epoch 55 | Training loss: 1922.6061763763428 | AUC: 0.857770711840784\n",
            "Epoch 56 | Training loss: 1916.8055582046509 | AUC: 0.8590331542628893\n",
            "Epoch 57 | Training loss: 1911.817216873169 | AUC: 0.8591415139041202\n",
            "Epoch 58 | Training loss: 1898.7413024902344 | AUC: 0.8623901990703374\n",
            "Epoch 59 | Training loss: 1901.6675109863281 | AUC: 0.8614031795033215\n",
            "Epoch 60 | Training loss: 1899.7922658920288 | AUC: 0.8617482470986968\n",
            "Epoch 61 | Training loss: 1893.0949754714966 | AUC: 0.8628305810685818\n",
            "Epoch 62 | Training loss: 1894.0454416275024 | AUC: 0.8628655086422601\n",
            "Epoch 63 | Training loss: 1891.5151329040527 | AUC: 0.8627838706989639\n",
            "Epoch 64 | Training loss: 1885.2980937957764 | AUC: 0.8641250053653803\n",
            "Epoch 65 | Training loss: 1884.9611206054688 | AUC: 0.8643785458851532\n",
            "Epoch 66 | Training loss: 1880.9449462890625 | AUC: 0.8646685920316318\n",
            "Epoch 67 | Training loss: 1882.5277318954468 | AUC: 0.8644698625536854\n",
            "Epoch 68 | Training loss: 1881.1996355056763 | AUC: 0.8646167266887903\n",
            "Epoch 69 | Training loss: 1869.0600681304932 | AUC: 0.867090272207835\n",
            "Epoch 70 | Training loss: 1865.8934898376465 | AUC: 0.8673938896103515\n",
            "Epoch 71 | Training loss: 1867.2834072113037 | AUC: 0.8662703158546778\n",
            "Epoch 72 | Training loss: 1851.8038244247437 | AUC: 0.8700723716159178\n",
            "Epoch 73 | Training loss: 1858.336983680725 | AUC: 0.8689679449036462\n",
            "Epoch 74 | Training loss: 1859.5798292160034 | AUC: 0.868577429381075\n",
            "Epoch 75 | Training loss: 1860.6378889083862 | AUC: 0.8682821230578375\n",
            "Epoch 76 | Training loss: 1846.9908170700073 | AUC: 0.8708714976691103\n",
            "Epoch 77 | Training loss: 1855.2969093322754 | AUC: 0.8694306300513477\n",
            "Epoch 78 | Training loss: 1853.5896167755127 | AUC: 0.8695936955308695\n",
            "Epoch 79 | Training loss: 1860.3666582107544 | AUC: 0.8683874317965481\n",
            "Epoch 80 | Training loss: 1840.9271659851074 | AUC: 0.871322820835013\n",
            "Epoch 81 | Training loss: 1850.6732559204102 | AUC: 0.869653240731779\n",
            "Epoch 82 | Training loss: 1841.3627042770386 | AUC: 0.8714808365448465\n",
            "Epoch 83 | Training loss: 1852.0093841552734 | AUC: 0.8693367884979712\n",
            "Epoch 84 | Training loss: 1831.1577768325806 | AUC: 0.8732082785924271\n",
            "Epoch 85 | Training loss: 1845.7112083435059 | AUC: 0.8706951765441564\n",
            "Epoch 86 | Training loss: 1848.4593324661255 | AUC: 0.8702914053761532\n",
            "Epoch 87 | Training loss: 1839.8367977142334 | AUC: 0.8719161687734024\n",
            "Epoch 88 | Training loss: 1827.5444602966309 | AUC: 0.8736690700764957\n",
            "Epoch 89 | Training loss: 1835.108268737793 | AUC: 0.8722374603698284\n",
            "Epoch 90 | Training loss: 1825.7234802246094 | AUC: 0.8740092983092529\n",
            "Epoch 91 | Training loss: 1827.5271863937378 | AUC: 0.8738525450418415\n",
            "Epoch 92 | Training loss: 1828.1620473861694 | AUC: 0.8736457148916867\n",
            "Epoch 93 | Training loss: 1818.5157852172852 | AUC: 0.8749866391510328\n",
            "Epoch 94 | Training loss: 1816.025556564331 | AUC: 0.8760064822210234\n",
            "Epoch 95 | Training loss: 1832.8311910629272 | AUC: 0.8727765232840672\n",
            "Epoch 96 | Training loss: 1818.8180742263794 | AUC: 0.8750182002115855\n",
            "Epoch 97 | Training loss: 1819.984001159668 | AUC: 0.8750411345822535\n",
            "Epoch 98 | Training loss: 1806.6585178375244 | AUC: 0.876891454358919\n",
            "Epoch 99 | Training loss: 1806.7970714569092 | AUC: 0.8773584528515628\n"
          ]
        }
      ]
    },
    {
      "cell_type": "code",
      "source": [
        "fig, ax1 = plt.subplots(1,1)\n",
        "x = range(0, len(train_auc))\n",
        "ax1.plot(x, train_auc)"
      ],
      "metadata": {
        "colab": {
          "base_uri": "https://localhost:8080/",
          "height": 282
        },
        "id": "ff9GZZj4e6PE",
        "outputId": "501a544b-85b6-49c6-da86-dad7e2a46147"
      },
      "execution_count": null,
      "outputs": [
        {
          "output_type": "execute_result",
          "data": {
            "text/plain": [
              "[<matplotlib.lines.Line2D at 0x7f18603daf10>]"
            ]
          },
          "metadata": {},
          "execution_count": 142
        },
        {
          "output_type": "display_data",
          "data": {
            "text/plain": [
              "<Figure size 432x288 with 1 Axes>"
            ],
            "image/png": "[encoded data removed]"
          },
          "metadata": {
            "needs_background": "light"
          }
        }
      ]
    },
    {
      "cell_type": "code",
      "source": [
        ""
      ],
      "metadata": {
        "id": "cIlMh71Xf6Vb"
      },
      "execution_count": null,
      "outputs": []
    },
    {
      "cell_type": "markdown",
      "source": [
        "# NNet with embeddings"
      ],
      "metadata": {
        "id": "dehthQngXl17"
      }
    },
    {
      "cell_type": "code",
      "source": [
        "unique = np.unique(vendor_id)\n",
        "index = np.arange(0, len(unique))\n",
        "vendor_id_to_index = {key: value for key, value in zip(unique, index)}"
      ],
      "metadata": {
        "id": "eqtkZ0koXnfi"
      },
      "execution_count": null,
      "outputs": []
    },
    {
      "cell_type": "code",
      "source": [
        "vendors_idx = np.array([vendor_id_to_index[vendor] for vendor in vendor_id])"
      ],
      "metadata": {
        "id": "adgo0xPCaCmT"
      },
      "execution_count": null,
      "outputs": []
    },
    {
      "cell_type": "code",
      "source": [
        "print(max(vendors_idx))\n",
        "print(min(vendors_idx))"
      ],
      "metadata": {
        "colab": {
          "base_uri": "https://localhost:8080/"
        },
        "id": "ylMLPk3haiC4",
        "outputId": "dad19248-d163-4666-c577-6c6366d9c554"
      },
      "execution_count": null,
      "outputs": [
        {
          "output_type": "stream",
          "name": "stdout",
          "text": [
            "499\n",
            "0\n"
          ]
        }
      ]
    },
    {
      "cell_type": "code",
      "source": [
        "class CustomDatasetWithEmb(Dataset):\n",
        "\n",
        "    def __init__(self, X, vendors_idx, y):\n",
        "        super().__init__()\n",
        "        self.X = X\n",
        "        self.vendors_idx = vendors_idx\n",
        "        self.y = y\n",
        "\n",
        "    def __len__(self):\n",
        "        return self.X.shape[0]\n",
        "\n",
        "    def __getitem__(self, idx):\n",
        "        return self.X[idx], self.vendors_idx[idx], self.y[idx]"
      ],
      "metadata": {
        "id": "zam3uekkan9Y"
      },
      "execution_count": null,
      "outputs": []
    },
    {
      "cell_type": "code",
      "source": [
        "vendors_index_train = vendors_idx[train_idx]  \n",
        "vendors_index_val = vendors_idx[valid_idx]\n",
        "train = CustomDatasetWithEmb(X_train, vendors_index_train, y_train)\n",
        "valid = CustomDatasetWithEmb(X_valid, vendors_index_val, y_valid)"
      ],
      "metadata": {
        "id": "vFfmOGUHbDG7"
      },
      "execution_count": null,
      "outputs": []
    },
    {
      "cell_type": "code",
      "source": [
        "train_dataloader = DataLoader(train, batch_size=64, shuffle=True)\n",
        "valid_dataloader = DataLoader(valid, batch_size=64, shuffle=True)"
      ],
      "metadata": {
        "id": "5imzVPkNbih_"
      },
      "execution_count": null,
      "outputs": []
    },
    {
      "cell_type": "code",
      "source": [
        "class NNetWithEmbeddings(torch.nn.Module):\n",
        "\n",
        "    def __init__(self, number_of_vendors, d):\n",
        "        super().__init__()\n",
        "        self.embedding = torch.nn.Embedding(num_embeddings=number_of_vendors, embedding_dim=d)\n",
        "        self.linear_1 = torch.nn.Linear(in_features=(13+d), out_features=100, bias=True)\n",
        "        self.relu_1 = torch.nn.ReLU()\n",
        "        self.linear_2 = torch.nn.Linear(in_features=100, out_features=50, bias=True)\n",
        "        self.relu_2 = torch.nn.ReLU()\n",
        "        self.output = torch.nn.Linear(in_features=50, out_features=1, bias=True)\n",
        "\n",
        "    def forward(self, x, vendor_idx):\n",
        "        vendor_emb = self.embedding(vendor_idx) # (64, d)\n",
        "\n",
        "        final_input = torch.cat([x, vendor_emb], dim=1) # (64, 13+d)\n",
        "\n",
        "        x = self.linear_1(final_input) \n",
        "        x = self.relu_1(x)\n",
        "        x = self.linear_2(x)\n",
        "        x = self.relu_2(x)        \n",
        "        x = self.output(x) \n",
        "        return x\n"
      ],
      "metadata": {
        "id": "nVqmme-1bzrg"
      },
      "execution_count": null,
      "outputs": []
    },
    {
      "cell_type": "code",
      "source": [
        "nnet2 = NNetWithEmbeddings(number_of_vendors=500, d=8)\n",
        "optimizer = torch.optim.Adam(nnet2.parameters(), lr=0.001)\n",
        "loss_function = torch.nn.BCEWithLogitsLoss(reduction=\"sum\")"
      ],
      "metadata": {
        "id": "S5tP8PQJdaOA"
      },
      "execution_count": null,
      "outputs": []
    },
    {
      "cell_type": "code",
      "source": [
        "print(nnet)"
      ],
      "metadata": {
        "colab": {
          "base_uri": "https://localhost:8080/"
        },
        "id": "FovucZ-OdnaW",
        "outputId": "6d9bf100-d99e-4cba-c138-71345d599e2c"
      },
      "execution_count": null,
      "outputs": [
        {
          "output_type": "stream",
          "name": "stdout",
          "text": [
            "NNet(\n",
            "  (linear_1): Linear(in_features=13, out_features=100, bias=True)\n",
            "  (relu_1): ReLU()\n",
            "  (linear_2): Linear(in_features=100, out_features=50, bias=True)\n",
            "  (relu_2): ReLU()\n",
            "  (output): Linear(in_features=50, out_features=1, bias=True)\n",
            ")\n"
          ]
        }
      ]
    },
    {
      "cell_type": "code",
      "source": [
        "print(nnet2)"
      ],
      "metadata": {
        "colab": {
          "base_uri": "https://localhost:8080/"
        },
        "id": "Lt6EfDXvdpZn",
        "outputId": "afcdc82b-00bd-4b72-96a1-ef3d70bf9816"
      },
      "execution_count": null,
      "outputs": [
        {
          "output_type": "stream",
          "name": "stdout",
          "text": [
            "NNetWithEmbeddings(\n",
            "  (embedding): Embedding(500, 8)\n",
            "  (linear_1): Linear(in_features=21, out_features=100, bias=True)\n",
            "  (relu_1): ReLU()\n",
            "  (linear_2): Linear(in_features=100, out_features=50, bias=True)\n",
            "  (relu_2): ReLU()\n",
            "  (output): Linear(in_features=50, out_features=1, bias=True)\n",
            ")\n"
          ]
        }
      ]
    },
    {
      "cell_type": "code",
      "source": [
        "nnet = nnet2\n",
        "\n",
        "nnet.to(\"cuda\")\n",
        "\n",
        "loss_list = []\n",
        "train_auc = []\n",
        "valid_auc = []\n",
        "data2 = []\n",
        "for epoch in range(100):\n",
        "\n",
        "    running_loss = 0\n",
        "    running_y_score = []\n",
        "    running_y_label = []\n",
        "    valid_y_score = []\n",
        "    valid_y_label = []\n",
        "    #### TRAINING ####\n",
        "\n",
        "    for i, data in enumerate(train_dataloader):\n",
        "\n",
        "        # datos del batch\n",
        "        X_batch, vendor_idx_batch, y_batch = data \n",
        "        X_batch = X_batch.to(device).float()\n",
        "        vendor_idx_batch = vendor_idx_batch.to(device)\n",
        "        Y_batch = y_batch.to(device).float()\n",
        "\n",
        "        # forward\n",
        "        optimizer.zero_grad()\n",
        "        y_batch_score = nnet(X_batch, vendor_idx_batch).reshape(-1)\n",
        "        y_batch_hat = torch.sigmoid(y_batch_score).reshape(-1)\n",
        "\n",
        "        # backpropagation\n",
        "        loss = loss_function(y_batch_score, Y_batch) # calcula el loss\n",
        "        loss.backward() # hacer los gradientes del loss\n",
        "\n",
        "        # actualización de parametros\n",
        "        optimizer.step() \n",
        "\n",
        "        running_loss += loss.item()\n",
        "        running_y_score += list(y_batch_score.detach().cpu().numpy())  \n",
        "        running_y_label += list(Y_batch.detach().cpu().numpy()) \n",
        "\n",
        "    # metrics\n",
        "    loss_list.append(running_loss)\n",
        "    fpt, tpr, _ = metrics.roc_curve(running_y_label, running_y_score)\n",
        "    auc = metrics.auc(fpt, tpr)\n",
        "    train_auc.append(auc)\n",
        "    # print(f\"Epoch {epoch} | Training loss: {running_loss} | AUC: {auc}\")\n",
        "    data2.append({'epoch': epoch, 'auc': auc, 'type': 'train'})\n",
        "\n",
        "    #### VALIDATION ####\n",
        "    nnet.eval()\n",
        "    with torch.no_grad():\n",
        "        for i, data in enumerate(valid_dataloader):\n",
        "          X_batch, vendor_idx_batch, y_batch = data\n",
        "          X_batch = X_batch.to(device).float()\n",
        "          vendor_idx_batch = vendor_idx_batch.to(device)\n",
        "          y_valid_batch_score = nnet(X_batch, vendor_idx_batch).reshape(-1)\n",
        "          y_valid_hat = torch.sigmoid(y_batch_score).reshape(-1)\n",
        "\n",
        "          valid_y_score += list(y_batch_score.detach().cpu().numpy())  \n",
        "          valid_y_label += list(Y_batch.detach().cpu().numpy()) \n",
        "        fpt, tpr, _ = metrics.roc_curve(valid_y_label, valid_y_score)\n",
        "        auc = metrics.auc(fpt, tpr)\n",
        "        valid_auc.append(auc)\n",
        "        data2.append({'epoch': epoch, 'auc': auc, 'type': 'valid'})"
      ],
      "metadata": {
        "id": "c5GSkGw-drh3"
      },
      "execution_count": null,
      "outputs": []
    },
    {
      "cell_type": "code",
      "source": [
        "import seaborn as sns\n",
        "df = pd.DataFrame(data2)\n",
        "sns.lineplot(data=df, x='epoch', y='auc', hue='type')"
      ],
      "metadata": {
        "id": "Y2SJaCiieOPK",
        "colab": {
          "base_uri": "https://localhost:8080/",
          "height": 296
        },
        "outputId": "cc2bf1a6-f263-4239-f4ed-d47d0d31643d"
      },
      "execution_count": null,
      "outputs": [
        {
          "output_type": "execute_result",
          "data": {
            "text/plain": [
              "<matplotlib.axes._subplots.AxesSubplot at 0x7f186054bc10>"
            ]
          },
          "metadata": {},
          "execution_count": 154
        },
        {
          "output_type": "display_data",
          "data": {
            "text/plain": [
              "<Figure size 432x288 with 1 Axes>"
            ],
            "image/png": "[encoded data removed]"
          },
          "metadata": {
            "needs_background": "light"
          }
        }
      ]
    }
  ]
}