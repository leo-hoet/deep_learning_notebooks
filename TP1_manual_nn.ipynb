{
  "nbformat": 4,
  "nbformat_minor": 0,
  "metadata": {
    "colab": {
      "name": "TP1_manual_nn.ipynb",
      "provenance": [],
      "collapsed_sections": [],
      "include_colab_link": true
    },
    "kernelspec": {
      "name": "python3",
      "display_name": "Python 3"
    },
    "language_info": {
      "name": "python"
    }
  },
  "cells": [
    {
      "cell_type": "markdown",
      "metadata": {
        "id": "view-in-github",
        "colab_type": "text"
      },
      "source": [
        "<a href=\"https://colab.research.google.com/github/leo-hoet/deep_learning_notebooks/blob/main/TP1_manual_nn.ipynb\" target=\"_parent\"><img src=\"https://colab.research.google.com/assets/colab-badge.svg\" alt=\"Open In Colab\"/></a>"
      ]
    },
    {
      "cell_type": "code",
      "execution_count": 1,
      "metadata": {
        "id": "Syk1AZG0BF13"
      },
      "outputs": [],
      "source": [
        "import numpy as np\n",
        "import random\n",
        "import math\n",
        "import seaborn as sns"
      ]
    },
    {
      "cell_type": "code",
      "source": [
        "X = np.array([[0,0],[0,1],[1,0],[1,1]])\n",
        "Y = np.array([0,1,1,0])\n",
        "\n",
        "def f(x):\n",
        "  return bool(x[0]) != bool(x[1])\n",
        "\n",
        "def error(y, y_hat):\n",
        "  return  abs(y - y_hat) ** 2\n",
        "\n",
        "def sigmoid(x):\n",
        "  return 1 / (1 + math.exp(-x))\n",
        "\n",
        "def L_partial_yhat(y, y_hat):\n",
        "  return (-2) * (y - y_hat)\n",
        "\n",
        "def sigmoid_diff(point):\n",
        "  return (sigmoid(point) * (1 - (sigmoid(point))))\n",
        "\n",
        "def partial_derivate_respect(param: 'str',y ,y_hat, w, b,x) -> float:\n",
        "  if param == 'w111':\n",
        "    z111 = w[0] * x[0] + w[1] * x[1] + b[0]\n",
        "    return L_partial_yhat(y, y_hat) * w[5] * sigmoid_diff(z111) * x[0]\n",
        "  elif param == 'w121':\n",
        "    z111 = w[0] * x[0] + w[1] * x[1] + b[0]\n",
        "    return L_partial_yhat(y, y_hat) * w[5] * sigmoid_diff(z111) * x[1]\n",
        "  elif param == 'w211':\n",
        "    z121 = w[2] * x[0] + w[3] * x[1] + b[1]\n",
        "    return L_partial_yhat(y, y_hat) * w[4] * sigmoid_diff(z121) * x[0]\n",
        "  elif param == 'w221':\n",
        "    z121 = w[2] * x[0] + w[3] * x[1] + b[1]\n",
        "    return L_partial_yhat(y, y_hat) * w[4] * sigmoid_diff(z121) * x[1]\n",
        "  elif param == 'w112':\n",
        "    z111 = w[0] * x[0] + w[1] * x[1] + b[0]\n",
        "    return L_partial_yhat(y, y_hat) * sigmoid(z111)\n",
        "  elif param == 'w122':\n",
        "    z121 = w[2] * x[0] + w[3] * x[1] + b[1]\n",
        "    return L_partial_yhat(y, y_hat) * sigmoid(z121)\n",
        "  elif param == 'b11':\n",
        "    return L_partial_yhat(y, y_hat) * w[5] * sigmoid_diff(w[0] * x[0] + w[1] * x[0] + b[0]) * 1\n",
        "  elif param == 'b21':\n",
        "    return L_partial_yhat(y, y_hat) * w[4] * sigmoid_diff(w[2] * x[0] + w[3] * x[1] + b[1]) * 1\n",
        "  elif param == 'b12':\n",
        "    return L_partial_yhat(y, y_hat) * 1\n",
        "\n",
        "def forward(x, w, b) -> float:\n",
        "  # First layer\n",
        "  z111 = w[0] * x[0] + w[1] * x[1] + b[0]\n",
        "  z121 = w[2] * x[0] + w[3] * x[1] + b[1]\n",
        "  a111 = act_func(z111)\n",
        "  a121 = act_func(z121)\n",
        "\n",
        "  # second layer\n",
        "  z112 = w[4] * a111 + w[5] * a121 + b[2]\n",
        "\n",
        "  return z112"
      ],
      "metadata": {
        "id": "bap1k7iIYGKK"
      },
      "execution_count": 2,
      "outputs": []
    },
    {
      "cell_type": "code",
      "source": [
        "# hyper paramteres\n",
        "epochs = 100\n",
        "act_func = sigmoid\n",
        "learning_rate = 0.1"
      ],
      "metadata": {
        "id": "Y2zMFdsukPOZ"
      },
      "execution_count": 3,
      "outputs": []
    },
    {
      "cell_type": "code",
      "source": [
        "# Compute sdg for xor\n",
        "\n",
        "w = np.array([random.random() for _ in range(6)])\n",
        "b = np.array([random.random() for _ in range(3)])\n",
        "errs = []\n",
        "mserros = []\n",
        "mse = []\n",
        "for epoch in range(epochs):\n",
        "  for x in X:\n",
        "    y_hat = forward(x,w,b)\n",
        "    y = f(x)\n",
        "    \n",
        "\n",
        "    w[0] = w[0] - learning_rate * partial_derivate_respect('w111', y, y_hat, w, b, x)\n",
        "    w[1] = w[1] - learning_rate * partial_derivate_respect('w121', y, y_hat, w, b, x)\n",
        "    w[2] = w[2] - learning_rate * partial_derivate_respect('w211', y, y_hat, w, b, x)\n",
        "    w[3] = w[3] - learning_rate * partial_derivate_respect('w221', y, y_hat, w, b, x)\n",
        "    w[4] = w[4] - learning_rate * partial_derivate_respect('w112', y, y_hat, w, b, x)\n",
        "    w[5] = w[5] - learning_rate * partial_derivate_respect('w122', y, y_hat, w, b, x)\n",
        "    b[0] = b[0] - learning_rate * partial_derivate_respect('b11', y, y_hat, w, b, x)\n",
        "    b[1] = b[1] - learning_rate * partial_derivate_respect('b21', y, y_hat, w, b, x)\n",
        "    b[2] = b[2] - learning_rate * partial_derivate_respect('b12', y, y_hat, w, b, x)\n",
        "\n",
        "    err = error(y, y_hat)\n",
        "    errs.append(err)\n",
        "  mse.append(0.25 * err)"
      ],
      "metadata": {
        "id": "hR4Wa4KKF3lh"
      },
      "execution_count": 4,
      "outputs": []
    },
    {
      "cell_type": "code",
      "source": [
        "data =  [{'epoch': i, 'msee': m} for i, m in enumerate(mse)]\n",
        "sns.lineplot(x=range(epochs), y=mse).set(title='MSE vs epochs', xlabel='epochs',ylabel='MSE')"
      ],
      "metadata": {
        "colab": {
          "base_uri": "https://localhost:8080/",
          "height": 312
        },
        "id": "Pw-68EWco5i1",
        "outputId": "88e16da1-d16e-4d8c-9500-8824775f06b1"
      },
      "execution_count": 9,
      "outputs": [
        {
          "output_type": "execute_result",
          "data": {
            "text/plain": [
              "[Text(0, 0.5, 'MSE'), Text(0.5, 0, 'epochs'), Text(0.5, 1.0, 'MSE vs epochs')]"
            ]
          },
          "metadata": {},
          "execution_count": 9
        },
        {
          "output_type": "display_data",
          "data": {
            "text/plain": [
              "<Figure size 432x288 with 1 Axes>"
            ],
            "image/png": "[encoded data removed]"
          },
          "metadata": {
            "needs_background": "light"
          }
        }
      ]
    }
  ]
}