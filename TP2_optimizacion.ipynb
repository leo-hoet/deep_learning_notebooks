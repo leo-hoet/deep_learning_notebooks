{
  "nbformat": 4,
  "nbformat_minor": 0,
  "metadata": {
    "colab": {
      "name": "TP2_optimizacion.ipynb",
      "provenance": [],
      "collapsed_sections": [],
      "authorship_tag": "ABX9TyMf3k8Gz7pLAfvoA5lH6djJ",
      "include_colab_link": true
    },
    "kernelspec": {
      "name": "python3",
      "display_name": "Python 3"
    },
    "language_info": {
      "name": "python"
    }
  },
  "cells": [
    {
      "cell_type": "markdown",
      "metadata": {
        "id": "view-in-github",
        "colab_type": "text"
      },
      "source": [
        "<a href=\"https://colab.research.google.com/github/leo-hoet/deep_learning_notebooks/blob/main/TP2_optimizacion.ipynb\" target=\"_parent\"><img src=\"https://colab.research.google.com/assets/colab-badge.svg\" alt=\"Open In Colab\"/></a>"
      ]
    },
    {
      "cell_type": "code",
      "execution_count": 640,
      "metadata": {
        "id": "9endedrSGu7q"
      },
      "outputs": [],
      "source": [
        "import seaborn as sns\n",
        "import math\n",
        "import pandas as pd\n",
        "import random \n",
        "import numpy as np\n",
        "from numpy import linalg as LA"
      ]
    },
    {
      "cell_type": "code",
      "source": [
        "def f(x):\n",
        "  return -(x - 3) ** 2 + x+ 0.1 * math.sin(10 * x)\n"
      ],
      "metadata": {
        "id": "RRMGZP-0KAK4"
      },
      "execution_count": 641,
      "outputs": []
    },
    {
      "cell_type": "code",
      "source": [
        "# generate dataset\n",
        "\n",
        "points = []\n",
        "for i in range(1000):\n",
        "  x = (random.random()) * 3\n",
        "  points.append({'x': x, 'y': f(x)})\n",
        "\n",
        "df = pd.DataFrame(points)\n",
        "sns.lineplot(data=df, x='x', y='y')"
      ],
      "metadata": {
        "colab": {
          "base_uri": "https://localhost:8080/",
          "height": 296
        },
        "id": "I-vUqf-Nb-cw",
        "outputId": "fc9a553b-e4a5-410d-fc25-3a9f767dc5f0"
      },
      "execution_count": 642,
      "outputs": [
        {
          "output_type": "execute_result",
          "data": {
            "text/plain": [
              "<matplotlib.axes._subplots.AxesSubplot at 0x7f58cdb7c750>"
            ]
          },
          "metadata": {},
          "execution_count": 642
        },
        {
          "output_type": "display_data",
          "data": {
            "text/plain": [
              "<Figure size 432x288 with 1 Axes>"
            ],
            "image/png": "[encoded data removed]"
          },
          "metadata": {
            "needs_background": "light"
          }
        }
      ]
    },
    {
      "cell_type": "code",
      "source": [
        "# hyper parameters\n",
        "epochs = 100\n",
        "batch_size = 20\n",
        "n_batches = 8"
      ],
      "metadata": {
        "id": "Vc1Uy_ssKdYF"
      },
      "execution_count": 643,
      "outputs": []
    },
    {
      "cell_type": "code",
      "source": [
        "# generate batches\n",
        "batches = []\n",
        "for i in range(n_batches):\n",
        "  batches.append(df.x.sample(batch_size).to_numpy())"
      ],
      "metadata": {
        "id": "A5AceQL9eSkx"
      },
      "execution_count": 644,
      "outputs": []
    },
    {
      "cell_type": "code",
      "source": [
        "def predict_func(x, W):\n",
        "  w1, w2, b = W\n",
        "  return w1 * (x ** 2) + w2 * x + b\n",
        "\n",
        "def calc_gradient(x, y, W) -> np.array:\n",
        "  w1, w2, w3 = W\n",
        "  f_partial_w1 = 2 * (y - w1 * (x ** 2) - w2 * x - w3) * (-x ** 2)\n",
        "  f_partial_w2 = 2 * (y - w1 * (x ** 2) - w2 * x - w3) * -x\n",
        "  f_partial_w3 = 2 * (y - w1 * (x ** 2) - w2 * x - w3) * (-1)\n",
        "\n",
        "  return np.array([f_partial_w1, f_partial_w2, f_partial_w3])\n",
        "\n",
        "def L_gradient(X, W):\n",
        "  w1, w2, w3 = W\n",
        "  L_partial_w1 = (1/batch_size) * (np.array([4 * (f(x) - w1 * (x ** 2) - w2 * x - w3) * (-w1 * x) for x in X]).sum())\n",
        "  L_partial_w2 = (1/batch_size) * (np.array([4 * (f(x) - w1 * (x ** 2) - w2 * x - w3) * -w2 for x in X]).sum())\n",
        "  L_partial_w3 = (1/batch_size) * (np.array([2 * (f(x) - w1 * (x ** 2) - w2 * x - w3) * (-1) for x in X]).sum())\n",
        "  return np.array([L_partial_w1, L_partial_w2, L_partial_w3])\n",
        "\n",
        "def mse(X,W):\n",
        "  return np.array([(f(x) - predict_func(x, W)) ** 2 for x in X]).mean()\n",
        "\n",
        "error_result = []\n",
        "\n",
        "# Minibatch\n",
        "learning_rate = 0.001\n",
        "W = np.random.random(3) # w1, w2, and b\n",
        "mse_minibatch = []\n",
        "for e in range(epochs):\n",
        "  for X in batches:\n",
        "    x, *_ = X\n",
        "    y_hat = predict_func(x, W)\n",
        "    y = f(x)\n",
        "\n",
        "    gradient = L_gradient( X, W)\n",
        "    W = W - learning_rate * gradient\n",
        "  error_result.append({'epoch':e, 'mse': mse(X,W), 'algol':'minibatch'})\n",
        "\n"
      ],
      "metadata": {
        "id": "ke_RLcCjKf9U"
      },
      "execution_count": 645,
      "outputs": []
    },
    {
      "cell_type": "code",
      "source": [
        "# First orden momentun\n",
        "learning_rate = 0.001\n",
        "momentum = 0.01\n",
        "W = np.random.random(3) # w1, w2, and b\n",
        "mse_momentum = []\n",
        "V = np.zeros(3)\n",
        "\n",
        "for e in range(epochs):\n",
        "  for X in batches:\n",
        "    x, *_ = X\n",
        "    y_hat = predict_func(x, W)\n",
        "    y = f(x)\n",
        "    err = y - y_hat\n",
        "\n",
        "    gradient = L_gradient(X, W)\n",
        "    V = momentum * V + learning_rate * gradient\n",
        "    W = W - V\n",
        "  mse_momentum.append(mse(X,W))\n",
        "  error_result.append({'epoch':e, 'mse': mse(X,W), 'algol':'momentum'})"
      ],
      "metadata": {
        "id": "y4HZkw48rper"
      },
      "execution_count": 646,
      "outputs": []
    },
    {
      "cell_type": "code",
      "source": [
        "df = pd.DataFrame(error_result)\n",
        "sns.lineplot(data=df, x='epoch', y='mse', hue='algol')"
      ],
      "metadata": {
        "colab": {
          "base_uri": "https://localhost:8080/",
          "height": 296
        },
        "id": "8aAvk9Gd0rIt",
        "outputId": "c7672fc8-dcc9-48f1-d9bc-50f71ea4062c"
      },
      "execution_count": 647,
      "outputs": [
        {
          "output_type": "execute_result",
          "data": {
            "text/plain": [
              "<matplotlib.axes._subplots.AxesSubplot at 0x7f58cb79e790>"
            ]
          },
          "metadata": {},
          "execution_count": 647
        },
        {
          "output_type": "display_data",
          "data": {
            "text/plain": [
              "<Figure size 432x288 with 1 Axes>"
            ],
            "image/png": "[encoded data removed]"
          },
          "metadata": {
            "needs_background": "light"
          }
        }
      ]
    },
    {
      "cell_type": "code",
      "source": [
        "X = np.linspace(0,3,50)\n",
        "y = np.array([predict_func(x,W) for x in X])\n",
        "datas = []\n",
        "for x in X:\n",
        "  datas.append({'x':x, 'y':f(x), 'type':'original'})\n",
        "\n",
        "for x in X:\n",
        "  datas.append({'x':x, 'y':predict_func(x,W), 'type':'predicted'})\n",
        "\n",
        "df = pd.DataFrame(datas)\n",
        "sns.lineplot(data=df, x='x', y='y', hue='type')"
      ],
      "metadata": {
        "colab": {
          "base_uri": "https://localhost:8080/",
          "height": 296
        },
        "id": "GYuFYhRA3tnI",
        "outputId": "ff62bd86-aca4-4170-f354-1c8031c6c495"
      },
      "execution_count": 648,
      "outputs": [
        {
          "output_type": "execute_result",
          "data": {
            "text/plain": [
              "<matplotlib.axes._subplots.AxesSubplot at 0x7f58cb433e50>"
            ]
          },
          "metadata": {},
          "execution_count": 648
        },
        {
          "output_type": "display_data",
          "data": {
            "text/plain": [
              "<Figure size 432x288 with 1 Axes>"
            ],
            "image/png": "[encoded data removed]"
          },
          "metadata": {
            "needs_background": "light"
          }
        }
      ]
    }
  ]
}